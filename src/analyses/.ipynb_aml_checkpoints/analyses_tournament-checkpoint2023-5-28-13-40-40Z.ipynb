{
  "cells": [
    {
      "cell_type": "code",
      "source": [
        "%load_ext lab_black"
      ],
      "outputs": [],
      "execution_count": 1,
      "metadata": {}
    },
    {
      "cell_type": "markdown",
      "source": [
        "Step: Load data"
      ],
      "metadata": {
        "nteract": {
          "transient": {
            "deleting": false
          }
        }
      }
    },
    {
      "cell_type": "code",
      "source": [
        "import csv\n",
        "import pandas as pd\n",
        "import numpy as np\n",
        "import time\n",
        "import os\n",
        "from pyprojroot import here\n",
        "from skimpy import clean_columns\n",
        "from data_cleaning.fun_hot_encode_limit import fun_hot_encode_limit\n",
        "import pandas as pd\n",
        "import numpy as np\n",
        "from prophet import Prophet\n",
        "from sklearn.metrics import median_absolute_error\n",
        "from math import sqrt\n",
        "\n",
        "path_data = here(\"./data\")\n",
        "os.chdir(path_data)\n",
        "\n",
        "data_draft_kings_analysis_week = pd.read_parquet(\n",
        "    \"data_draft_kings_analysis_week.parquet\"\n",
        ")"
      ],
      "outputs": [],
      "execution_count": 2,
      "metadata": {
        "jupyter": {
          "source_hidden": false,
          "outputs_hidden": false
        },
        "nteract": {
          "transient": {
            "deleting": false
          }
        },
        "gather": {
          "logged": 1683227782269
        }
      }
    },
    {
      "cell_type": "code",
      "source": [
        "data_draft_kings_analysis_week[\"points\"].describe()"
      ],
      "outputs": [
        {
          "output_type": "execute_result",
          "execution_count": 3,
          "data": {
            "text/plain": "count    20.000000\nmean     25.191537\nstd       2.043255\nmin      22.076296\n25%      23.669537\n50%      24.852963\n75%      26.337593\nmax      29.214815\nName: points, dtype: float64"
          },
          "metadata": {}
        }
      ],
      "execution_count": 3,
      "metadata": {
        "jupyter": {
          "source_hidden": false,
          "outputs_hidden": false
        },
        "nteract": {
          "transient": {
            "deleting": false
          }
        },
        "gather": {
          "logged": 1683227782395
        }
      }
    },
    {
      "cell_type": "code",
      "source": [
        "import pandas as pd\n",
        "from scipy.stats import spearmanr\n",
        "\n",
        "\n",
        "def filter_correlations(data, outcome, threshold):\n",
        "    # Calculate the Spearman correlation\n",
        "    correlation_matrix, _ = spearmanr(data)\n",
        "\n",
        "    # Store the correlations in a new Series\n",
        "    correlations = pd.Series(\n",
        "        correlation_matrix[data.columns.get_loc(outcome)], index=data.columns\n",
        "    )\n",
        "\n",
        "    # Filter the correlations, removing the correlation of the outcome variable with itself\n",
        "    correlations = correlations.drop(outcome)\n",
        "\n",
        "    # Create a DataFrame with the correlations and predictor names\n",
        "    correlations_df = (\n",
        "        pd.DataFrame(correlations)\n",
        "        .reset_index()\n",
        "        .rename(columns={0: \"correlation\", \"index\": \"predictor\"})\n",
        "    )\n",
        "\n",
        "    # Filter the DataFrame based on the correlation threshold\n",
        "    correlations_df[\"abs_corr\"] = correlations_df[\"correlation\"].abs()\n",
        "    filtered_correlations = (\n",
        "        correlations_df[correlations_df[\"abs_corr\"] > threshold]\n",
        "        .sort_values(by=\"abs_corr\", ascending=False)\n",
        "        .reset_index(drop=True)\n",
        "        .drop(columns=[\"abs_corr\"])\n",
        "    ).round(2)\n",
        "\n",
        "    return filtered_correlations"
      ],
      "outputs": [],
      "execution_count": 6,
      "metadata": {
        "jupyter": {
          "source_hidden": false,
          "outputs_hidden": false
        },
        "nteract": {
          "transient": {
            "deleting": false
          }
        },
        "gather": {
          "logged": 1683227799826
        }
      }
    },
    {
      "cell_type": "code",
      "source": [
        "data = data_draft_kings_analysis_week\n",
        "outcome = \"points\"\n",
        "threshold = 0.40\n",
        "\n",
        "filtered_correlations = filter_correlations(data, outcome, threshold)\n",
        "filtered_correlations.to_csv(\"filtered_correlations.csv\")\n",
        "filtered_correlations"
      ],
      "outputs": [
        {
          "output_type": "stream",
          "name": "stderr",
          "text": "/anaconda/envs/azureml_py38/lib/python3.8/site-packages/numpy/lib/function_base.py:2853: RuntimeWarning: invalid value encountered in divide\n  c /= stddev[:, None]\n/anaconda/envs/azureml_py38/lib/python3.8/site-packages/numpy/lib/function_base.py:2854: RuntimeWarning: invalid value encountered in divide\n  c /= stddev[None, :]\n"
        },
        {
          "output_type": "execute_result",
          "execution_count": 9,
          "data": {
            "text/plain": "          predictor  correlation\n0             value         0.88\n1       sony_michel         0.54\n2  david_montgomery         0.52\n3     antonio_brown         0.52\n4   braxton_berrios         0.49\n5        josh_allen        -0.45\n6   patrick_mahomes        -0.41\n7         tom_brady         0.41",
            "text/html": "<div>\n<style scoped>\n    .dataframe tbody tr th:only-of-type {\n        vertical-align: middle;\n    }\n\n    .dataframe tbody tr th {\n        vertical-align: top;\n    }\n\n    .dataframe thead th {\n        text-align: right;\n    }\n</style>\n<table border=\"1\" class=\"dataframe\">\n  <thead>\n    <tr style=\"text-align: right;\">\n      <th></th>\n      <th>predictor</th>\n      <th>correlation</th>\n    </tr>\n  </thead>\n  <tbody>\n    <tr>\n      <th>0</th>\n      <td>value</td>\n      <td>0.88</td>\n    </tr>\n    <tr>\n      <th>1</th>\n      <td>sony_michel</td>\n      <td>0.54</td>\n    </tr>\n    <tr>\n      <th>2</th>\n      <td>david_montgomery</td>\n      <td>0.52</td>\n    </tr>\n    <tr>\n      <th>3</th>\n      <td>antonio_brown</td>\n      <td>0.52</td>\n    </tr>\n    <tr>\n      <th>4</th>\n      <td>braxton_berrios</td>\n      <td>0.49</td>\n    </tr>\n    <tr>\n      <th>5</th>\n      <td>josh_allen</td>\n      <td>-0.45</td>\n    </tr>\n    <tr>\n      <th>6</th>\n      <td>patrick_mahomes</td>\n      <td>-0.41</td>\n    </tr>\n    <tr>\n      <th>7</th>\n      <td>tom_brady</td>\n      <td>0.41</td>\n    </tr>\n  </tbody>\n</table>\n</div>"
          },
          "metadata": {}
        }
      ],
      "execution_count": 9,
      "metadata": {
        "jupyter": {
          "source_hidden": false,
          "outputs_hidden": false
        },
        "nteract": {
          "transient": {
            "deleting": false
          }
        },
        "gather": {
          "logged": 1683227829518
        }
      }
    }
  ],
  "metadata": {
    "kernelspec": {
      "name": "python38-azureml",
      "language": "python",
      "display_name": "Python 3.8 - AzureML"
    },
    "language_info": {
      "name": "python",
      "version": "3.8.10",
      "mimetype": "text/x-python",
      "codemirror_mode": {
        "name": "ipython",
        "version": 3
      },
      "pygments_lexer": "ipython3",
      "nbconvert_exporter": "python",
      "file_extension": ".py"
    },
    "microsoft": {
      "ms_spell_check": {
        "ms_spell_check_language": "en"
      },
      "host": {
        "AzureML": {
          "notebookHasBeenCompleted": true
        }
      }
    },
    "kernel_info": {
      "name": "python38-azureml"
    },
    "nteract": {
      "version": "nteract-front-end@1.0.0"
    }
  },
  "nbformat": 4,
  "nbformat_minor": 2
}